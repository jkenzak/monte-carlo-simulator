{
 "cells": [
  {
   "cell_type": "markdown",
   "id": "45762487-d33f-486d-8e38-2cdea04e3528",
   "metadata": {},
   "source": [
    "# Final Project Report\n",
    "\n",
    "* Class: DS 5100\n",
    "* Student Name: Jack Kenzakowski\n",
    "* Student Net ID: jak5je\n",
    "* This URL: https://github.com/jkenzak/ds5100-finalproject-jak5je/blob/main/DS51200_FinalProjectTemplate.ipynb"
   ]
  },
  {
   "cell_type": "markdown",
   "id": "acf756c1-ecaa-41dc-b6ca-d566eb94560b",
   "metadata": {},
   "source": [
    "# Instructions\n",
    "\n",
    "Follow the instructions in the Final Project isntructions notebook and put evidence of your work in this notebook.\n",
    "\n",
    "Total points for each subsection under **Deliverables** and **Scenarios** are given in parentheses.\n",
    "\n",
    "Breakdowns of points within subsections are specified within subsection instructions as bulleted lists.\n",
    "\n",
    "This project is worth **50 points**."
   ]
  },
  {
   "cell_type": "markdown",
   "id": "89dc7a32-f682-4402-8c1e-b6ccdb3e0e39",
   "metadata": {},
   "source": [
    "# Deliverables"
   ]
  },
  {
   "cell_type": "markdown",
   "id": "d32cb273-9a40-4909-a7ce-51f6e4958d3c",
   "metadata": {},
   "source": [
    "## The Monte Carlo Module (10)\n",
    "\n",
    "- URL included, appropriately named (1).\n",
    "- Includes all three specified classes (3).\n",
    "- Includes at least all 12 specified methods (6; .5 each)."
   ]
  },
  {
   "cell_type": "markdown",
   "id": "f5f3b070-de9e-4de9-bfae-8974d184aa28",
   "metadata": {},
   "source": [
    "Put the URL to your GitHub repo here.\n",
    "\n",
    "Repo URL: https://github.com/jkenzak/ds5100-finalproject-jak5je"
   ]
  },
  {
   "cell_type": "markdown",
   "id": "162370fb-3729-4c85-b040-8c25b2c966d2",
   "metadata": {},
   "source": [
    "Paste a copyy of your module here.\n",
    "\n",
    "NOTE: Paste as text, not as code. Use triple backticks to wrap your code blocks."
   ]
  },
  {
   "cell_type": "markdown",
   "id": "894600b7-ff2d-4efa-babe-d69ea8b598d1",
   "metadata": {},
   "source": [
    "```python\n",
    "import numpy as np\n",
    "import pandas as pd\n",
    "\n",
    "class Die:\n",
    "    ''' Initialize an N-sided die with weights that is meant to be rolled one or more times '''\n",
    "    def __init__(self, faces):\n",
    "        '''\n",
    "        Creates the Die instance. Takes in an array of distnct die faces and initializes all their weights to 1\n",
    "        \n",
    "        INPUTS\n",
    "        faces : NumPy array of strings, integers, or floats\n",
    "        '''\n",
    "        \n",
    "        if type(faces) != np.ndarray:\n",
    "            raise TypeError('Input must be a NumPy array')\n",
    "\n",
    "        if len(np.unique(faces)) != len(faces):\n",
    "            raise ValueError('The array\\'s values must be distinct')\n",
    "\n",
    "        weights = np.ones(len(faces))\n",
    "\n",
    "        self._die_df = pd.DataFrame({\n",
    "            'faces': faces,\n",
    "            'weights': weights\n",
    "        }).set_index('faces')\n",
    "\n",
    "    def change_weight(self, face, new_weight):\n",
    "        '''\n",
    "        Changes the weight of a single side of the dice\n",
    "        \n",
    "        INPUTS\n",
    "        face : string, integer, or float\n",
    "            the face value to be changed, must be in the die darray\n",
    "        new_weight : integer, float, or numeric string\n",
    "            the new weight of the passed face on the die\n",
    "        '''\n",
    "        \n",
    "        if face not in self._die_df.index:\n",
    "            raise IndexError('Face passed must be a valid value')\n",
    "        if type(new_weight) == str:\n",
    "            if new_weight.isnumeric() == False:\n",
    "                raise TypeError('String must be castable as numeric')\n",
    "        elif type(new_weight) != int and type(new_weight) != float:\n",
    "                raise TypeError('Value must be numeric or castable as numeric')\n",
    "        else:\n",
    "            self._die_df.loc[face] = new_weight\n",
    "\n",
    "    def roll_die(self, n=1):\n",
    "        '''\n",
    "        Rolls the dice one or more times. Returns a list of the faces that the die rolled on\n",
    "        \n",
    "        INPUTS\n",
    "        n : positive int\n",
    "            number of times the die is to be rolled\n",
    "            default: n=1\n",
    "        \n",
    "        OUTPUT\n",
    "        list of die faces\n",
    "        '''\n",
    "        \n",
    "        outcomes = []\n",
    "        probs = self._die_df.weights / sum(self._die_df.weights)\n",
    "        for i in range(n):\n",
    "            outcome = np.random.choice(self._die_df.index.values, p = probs)\n",
    "            outcomes.append(outcome)\n",
    "        return outcomes\n",
    "\n",
    "\n",
    "    def die_state(self):\n",
    "        '''\n",
    "        Show the die's current state, with each die face and their corresponding weights\n",
    "        \n",
    "        OUTPUT\n",
    "        pandas dataframe\n",
    "        '''\n",
    "        \n",
    "        return self._die_df.copy()\n",
    "        \n",
    "\n",
    "class Game:\n",
    "    ''' Collection of dice with the purpose of rolling them and storing the results of the most recent play'''\n",
    "    def __init__(self, dice):\n",
    "        '''\n",
    "        Game initializer\n",
    "        \n",
    "        INPUTS\n",
    "        dice    list of Die objects\n",
    "            All Die in the list have the same faces\n",
    "        '''\n",
    "        \n",
    "        self.dice = dice\n",
    "\n",
    "    def play(self, n):\n",
    "        '''\n",
    "       Rolls the dice a specified amount of times using the Die methods and stores them in a private dataframe\n",
    "        \n",
    "        INPUTS\n",
    "        n : number of times to roll the dice\n",
    "        '''\n",
    "        \n",
    "        result = pd.DataFrame()\n",
    "        result.index.name = \"roll_number\"\n",
    "        for i in range(0, len(self.dice)):\n",
    "            result[i] = self.dice[i].roll_die(n)\n",
    "        self._result = result\n",
    "\n",
    "    def return_result(self, wide=True):\n",
    "        '''\n",
    "        Shows the results of the most recent play\n",
    "        \n",
    "        INPUTS\n",
    "        wide : bool\n",
    "            Whether the outputted dataframe should be in narrow or wide format\n",
    "            Default: wide=True\n",
    "        \n",
    "        OUTPUT\n",
    "        pandas dataframe of the roll results, in narrow or wide form\n",
    "        '''\n",
    "        \n",
    "        if type(wide) != bool:\n",
    "            raise ValueError('Must pass True or False for wide format')\n",
    "        if wide == False:\n",
    "            result_narrow = self._result.stack().to_frame('outcome')\n",
    "            result_narrow.index.names = ['roll_number', 'die_number']\n",
    "            return result_narrow.copy()\n",
    "        return self._result.copy()\n",
    "        \n",
    "        \n",
    "        \n",
    "class Analyzer:\n",
    "    ''' Takes the results of a Game object and computes properties and statistics of the game '''\n",
    "    def __init__(self, game):\n",
    "        '''\n",
    "        Initializes Analyzer class\n",
    "        \n",
    "        INPUTS\n",
    "        game    Game object\n",
    "        '''\n",
    "    \n",
    "        if type(game) != Game:\n",
    "            raise ValueError('Input must be a Game object')\n",
    "        self.game = game\n",
    "        \n",
    "    def jackpot(self):\n",
    "        '''\n",
    "        Calculates number of instances where all faces are the same in a single roll, AKA a jackpot\n",
    "\n",
    "        OUTPUT\n",
    "        num_jackpot : int\n",
    "        '''\n",
    "        \n",
    "        num_jackpot = 0\n",
    "        results = self.game.return_result()\n",
    "        for i in range(0, len(results)):\n",
    "            result_row = results.iloc[i]\n",
    "            if len(np.unique(result_row)) == 1:\n",
    "                num_jackpot += 1\n",
    "        return num_jackpot\n",
    "\n",
    "    def face_counts(self):\n",
    "        '''\n",
    "        Computes how many times each face is rolled for each singular roll\n",
    "        \n",
    "        \n",
    "        OUTPUT\n",
    "        counts : pandas dataframe of counts for each roll\n",
    "        '''\n",
    "        results = self.game.return_result()\n",
    "        faces = self.game.dice[0].die_state().index.values\n",
    "        counts = pd.DataFrame(0, columns = faces, index = results.index)\n",
    "        for i in range(0, len(results)):\n",
    "            for j in results.columns:\n",
    "                face_val = results.loc[i,j]\n",
    "                counts.loc[(i, face_val)] += 1\n",
    "\n",
    "        return counts\n",
    "\n",
    "    def combo_count(self):\n",
    "        '''\n",
    "        Calculates the distinct combinations of faces rolled, in no particular order\n",
    "\n",
    "        OUTPUT\n",
    "        combos : pandas dataframe containing all of the combinations and their counts\n",
    "        '''\n",
    "        results = self.game.return_result()\n",
    "        combinations = []\n",
    "        for i in range(0, len(results)):\n",
    "            permutation = results.iloc[i].sort_values()\n",
    "            combinations.append(tuple(permutation))\n",
    "        combos = pd.Series(combinations).value_counts().to_frame()\n",
    "        index = pd.MultiIndex.from_tuples(combos.index.values)\n",
    "        combos = combos.set_index(index)\n",
    "        return combos\n",
    "\n",
    "    def permutation_count(self):\n",
    "        '''\n",
    "        Calculates the distinct, order-dependent permutations of faces rolled\n",
    "\n",
    "        OUTPUT\n",
    "        perms : pandas dataframe containing all of the permutations and their counts\n",
    "        '''\n",
    "        results = self.game.return_result()\n",
    "        combinations = []\n",
    "        for i in range(0, len(results)):\n",
    "            permutation = results.iloc[i]\n",
    "            combinations.append(tuple(permutation))\n",
    "        perms = pd.Series(combinations).value_counts().to_frame()\n",
    "        index = pd.MultiIndex.from_tuples(perms.index.values)\n",
    "        perms = perms.set_index(index)\n",
    "        return perms\n",
    "```"
   ]
  },
  {
   "cell_type": "markdown",
   "id": "6377727a-8f0a-491e-9f1c-d9dc225edd35",
   "metadata": {},
   "source": [
    "## Unitest Module (2)\n",
    "\n",
    "Paste a copy of your test module below.\n",
    "\n",
    "NOTE: Paste as text, not as code. Use triple backticks to wrap your code blocks.\n",
    "\n",
    "- All methods have at least one test method (1).\n",
    "- Each method employs one of Unittest's Assert methods (1)."
   ]
  },
  {
   "cell_type": "markdown",
   "id": "65885803-f281-4230-8127-f1208fe52857",
   "metadata": {},
   "source": [
    "```python\n",
    "from montecarlo.montecarlo import Die, Game, Analyzer\n",
    "import unittest\n",
    "import numpy as np\n",
    "import pandas as pd\n",
    "\n",
    "class TestDieMethods(unittest.TestCase):\n",
    "    def test_Die_initializer(self):\n",
    "        die1 = Die(np.array(['H', 'T']))\n",
    "        self.assertTrue(type(die1) == Die)\n",
    "\n",
    "    def test_change_weight(self):\n",
    "        die1 = Die(np.array(['H', 'T']))\n",
    "        die1.change_weight('H', 5)\n",
    "        statement = die1._die_df.loc['H'].values\n",
    "        self.assertEqual(statement, 5)\n",
    "\n",
    "    def test_roll_die(self):\n",
    "        die1 = Die(np.array(['H', 'T']))\n",
    "        die_rolls = die1.roll_die(5)\n",
    "        statement = (len(die_rolls) == 5) & (type(die_rolls) == list)\n",
    "        self.assertTrue(statement)\n",
    "\n",
    "    def test_die_state(self):\n",
    "        die1 = Die(np.array(['H', 'T']))\n",
    "        state = die1.die_state()\n",
    "        self.assertEqual(type(state), pd.DataFrame)\n",
    "\n",
    "\n",
    "class TestGameMethods(unittest.TestCase):\n",
    "    def test_Game_initializer(self):\n",
    "        die1 = Die(np.array(['H', 'T']))\n",
    "        game1 = Game([die1, die1])\n",
    "        self.assertEqual(type(game1), Game)\n",
    "\n",
    "    def test_Game_roll(self):\n",
    "        die1 = Die(np.array(['H', 'T']))\n",
    "        game1 = Game([die1, die1])\n",
    "        game1.play(10)\n",
    "        self.assertEqual(len(game1._result), 10)\n",
    "\n",
    "    def test_return_result(self):\n",
    "        die1 = Die(np.array(['H', 'T']))\n",
    "        game1 = Game([die1, die1])\n",
    "        game1.play(10)\n",
    "        result = game1.return_result(True)\n",
    "        self.assertEqual(type(result), pd.DataFrame)\n",
    "\n",
    "class TestAnalyzerMethods(unittest.TestCase):\n",
    "    def test_Analyzer_initializer(self):\n",
    "        die1 = Die(np.array(['H', 'T']))\n",
    "        game1 = Game([die1, die1])\n",
    "        game1.play(10)\n",
    "        analysis = Analyzer(game1)\n",
    "        self.assertEqual(type(analysis), Analyzer)\n",
    "        \n",
    "    def test_jackpot(self):\n",
    "        die1 = Die(np.array(['H', 'T']))\n",
    "        game1 = Game([die1, die1])\n",
    "        game1.play(10)\n",
    "        analysis = Analyzer(game1)\n",
    "        self.assertEqual(type(analysis.jackpot()), int)\n",
    "        \n",
    "    def test_face_counts(self):\n",
    "        die1 = Die(np.array(['H', 'T']))\n",
    "        game1 = Game([die1, die1])\n",
    "        game1.play(10)\n",
    "        analysis = Analyzer(game1)\n",
    "        self.assertEqual(type(analysis.face_counts()), pd.DataFrame)\n",
    "\n",
    "    def test_combo_count(self):\n",
    "        die1 = Die(np.array(['H', 'T']))\n",
    "        game1 = Game([die1, die1])\n",
    "        game1.play(10)\n",
    "        analysis = Analyzer(game1)\n",
    "        self.assertEqual(type(analysis.combo_count()), pd.DataFrame)\n",
    "\n",
    "    def test_permutation_count(self):\n",
    "        die1 = Die(np.array(['H', 'T']))\n",
    "        game1 = Game([die1, die1])\n",
    "        game1.play(10)\n",
    "        analysis = Analyzer(game1)\n",
    "        self.assertEqual(type(analysis.permutation_count()), pd.DataFrame)\n",
    "        \n",
    "   \n",
    "if __name__ == '__main__':\n",
    "    unittest.main(verbosity=2)\n",
    "```"
   ]
  },
  {
   "cell_type": "markdown",
   "id": "3e058d03-29bc-408f-b36d-0605b4f4b8c0",
   "metadata": {
    "tags": []
   },
   "source": [
    "## Unittest Results (3)\n",
    "\n",
    "Put a copy of the results of running your tests from the command line here.\n",
    "\n",
    "Again, paste as text using triple backticks.\n",
    "\n",
    "- All 12 specified methods return OK (3; .25 each)."
   ]
  },
  {
   "cell_type": "markdown",
   "id": "3f336932-69c9-44ba-93d0-ea79181ccf36",
   "metadata": {
    "tags": []
   },
   "source": [
    "```bash\n",
    "test_Analyzer_initializer (__main__.TestAnalyzerMethods.test_Analyzer_initializer) ... ok\n",
    "test_combo_count (__main__.TestAnalyzerMethods.test_combo_count) ... ok\n",
    "test_face_counts (__main__.TestAnalyzerMethods.test_face_counts) ... ok\n",
    "test_jackpot (__main__.TestAnalyzerMethods.test_jackpot) ... ok\n",
    "test_permutation_count (__main__.TestAnalyzerMethods.test_permutation_count) ... ok\n",
    "test_Die_initializer (__main__.TestDieMethods.test_Die_initializer) ... ok\n",
    "test_change_weight (__main__.TestDieMethods.test_change_weight) ... ok\n",
    "test_die_state (__main__.TestDieMethods.test_die_state) ... ok\n",
    "test_roll_die (__main__.TestDieMethods.test_roll_die) ... ok\n",
    "test_Game_initializer (__main__.TestGameMethods.test_Game_initializer) ... ok\n",
    "test_Game_roll (__main__.TestGameMethods.test_Game_roll) ... ok\n",
    "test_return_result (__main__.TestGameMethods.test_return_result) ... ok\n",
    "\n",
    "----------------------------------------------------------------------\n",
    "Ran 12 tests in 0.099s\n",
    "\n",
    "OK\n",
    "```"
   ]
  },
  {
   "cell_type": "markdown",
   "id": "d9ffe8c5-eb2f-4ad1-af76-a46550e4c7ac",
   "metadata": {},
   "source": [
    "## Import (1)\n",
    "\n",
    "Import your module here. This import should refer to the code in your package directory.\n",
    "\n",
    "- Module successuflly imported (1)."
   ]
  },
  {
   "cell_type": "code",
   "execution_count": 2,
   "id": "a05dffb3-e6d6-4f78-9df4-5abd0cf74ca9",
   "metadata": {
    "tags": []
   },
   "outputs": [],
   "source": [
    "import montecarlo.montecarlo as montecarlo"
   ]
  },
  {
   "cell_type": "markdown",
   "id": "f30c4842-65b1-4556-98b6-3fe1a07e1371",
   "metadata": {},
   "source": [
    "## Help Docs (4)\n",
    "\n",
    "Show your docstring documentation by applying `help()` to your imported module.\n",
    "\n",
    "- All methods have a docstring (3; .25 each).\n",
    "- All classes have a docstring (1; .33 each)."
   ]
  },
  {
   "cell_type": "code",
   "execution_count": 3,
   "id": "bf4fbf1f-9885-471c-a0a6-e9ca90e160de",
   "metadata": {
    "scrolled": true,
    "tags": []
   },
   "outputs": [
    {
     "name": "stdout",
     "output_type": "stream",
     "text": [
      "Help on module montecarlo.montecarlo in montecarlo:\n",
      "\n",
      "NAME\n",
      "    montecarlo.montecarlo\n",
      "\n",
      "CLASSES\n",
      "    builtins.object\n",
      "        Analyzer\n",
      "        Die\n",
      "        Game\n",
      "\n",
      "    class Analyzer(builtins.object)\n",
      "     |  Analyzer(game)\n",
      "     |\n",
      "     |  Takes the results of a Game object and computes properties and statistics of the game\n",
      "     |\n",
      "     |  Methods defined here:\n",
      "     |\n",
      "     |  __init__(self, game)\n",
      "     |      Initializes Analyzer class\n",
      "     |\n",
      "     |      INPUTS\n",
      "     |      game    Game object\n",
      "     |\n",
      "     |  combo_count(self)\n",
      "     |      Calculates the distinct combinations of faces rolled, in no particular order\n",
      "     |\n",
      "     |      OUTPUT\n",
      "     |      combos : pandas dataframe containing all of the combinations and their counts\n",
      "     |\n",
      "     |  face_counts(self)\n",
      "     |      Computes how many times each face is rolled for each singular roll\n",
      "     |\n",
      "     |\n",
      "     |      OUTPUT\n",
      "     |      counts : pandas dataframe of counts for each roll\n",
      "     |\n",
      "     |  jackpot(self)\n",
      "     |      Calculates number of instances where all faces are the same in a single roll, AKA a jackpot\n",
      "     |\n",
      "     |      OUTPUT\n",
      "     |      num_jackpot : int\n",
      "     |\n",
      "     |  permutation_count(self)\n",
      "     |      Calculates the distinct, order-dependent permutations of faces rolled\n",
      "     |\n",
      "     |      OUTPUT\n",
      "     |      perms : pandas dataframe containing all of the permutations and their counts\n",
      "     |\n",
      "     |  ----------------------------------------------------------------------\n",
      "     |  Data descriptors defined here:\n",
      "     |\n",
      "     |  __dict__\n",
      "     |      dictionary for instance variables\n",
      "     |\n",
      "     |  __weakref__\n",
      "     |      list of weak references to the object\n",
      "\n",
      "    class Die(builtins.object)\n",
      "     |  Die(faces)\n",
      "     |\n",
      "     |  Initialize an N-sided die with weights that is meant to be rolled one or more times\n",
      "     |\n",
      "     |  Methods defined here:\n",
      "     |\n",
      "     |  __init__(self, faces)\n",
      "     |      Creates the Die instance. Takes in an array of distnct die faces and initializes all their weights to 1\n",
      "     |\n",
      "     |      INPUTS\n",
      "     |      faces : NumPy array of strings, integers, or floats\n",
      "     |\n",
      "     |  change_weight(self, face, new_weight)\n",
      "     |      Changes the weight of a single side of the dice\n",
      "     |\n",
      "     |      INPUTS\n",
      "     |      face : string, integer, or float\n",
      "     |          the face value to be changed, must be in the die darray\n",
      "     |      new_weight : integer, float, or numeric string\n",
      "     |          the new weight of the passed face on the die\n",
      "     |\n",
      "     |  die_state(self)\n",
      "     |      Show the die's current state, with each die face and their corresponding weights\n",
      "     |\n",
      "     |      OUTPUT\n",
      "     |      pandas dataframe\n",
      "     |\n",
      "     |  roll_die(self, n=1)\n",
      "     |      Rolls the dice one or more times. Returns a list of the faces that the die rolled on\n",
      "     |\n",
      "     |      INPUTS\n",
      "     |      n : positive int\n",
      "     |          number of times the die is to be rolled\n",
      "     |          default: n=1\n",
      "     |\n",
      "     |      OUTPUT\n",
      "     |      list of die faces\n",
      "     |\n",
      "     |  ----------------------------------------------------------------------\n",
      "     |  Data descriptors defined here:\n",
      "     |\n",
      "     |  __dict__\n",
      "     |      dictionary for instance variables\n",
      "     |\n",
      "     |  __weakref__\n",
      "     |      list of weak references to the object\n",
      "\n",
      "    class Game(builtins.object)\n",
      "     |  Game(dice)\n",
      "     |\n",
      "     |  Collection of dice with the purpose of rolling them and storing the results of the most recent play\n",
      "     |\n",
      "     |  Methods defined here:\n",
      "     |\n",
      "     |  __init__(self, dice)\n",
      "     |      Game initializer\n",
      "     |\n",
      "     |      INPUTS\n",
      "     |      dice    list of Die objects\n",
      "     |          All Die in the list have the same faces\n",
      "     |\n",
      "     |  play(self, n)\n",
      "     |      Rolls the dice a specified amount of times using the Die methods and stores them in a private dataframe\n",
      "     |\n",
      "     |       INPUTS\n",
      "     |       n : number of times to roll the dice\n",
      "     |\n",
      "     |  return_result(self, wide=True)\n",
      "     |      Shows the results of the most recent play\n",
      "     |\n",
      "     |      INPUTS\n",
      "     |      wide : bool\n",
      "     |          Whether the outputted dataframe should be in narrow or wide format\n",
      "     |          Default: wide=True\n",
      "     |\n",
      "     |      OUTPUT\n",
      "     |      pandas dataframe of the roll results, in narrow or wide form\n",
      "     |\n",
      "     |  ----------------------------------------------------------------------\n",
      "     |  Data descriptors defined here:\n",
      "     |\n",
      "     |  __dict__\n",
      "     |      dictionary for instance variables\n",
      "     |\n",
      "     |  __weakref__\n",
      "     |      list of weak references to the object\n",
      "\n",
      "FILE\n",
      "    /Users/jackkenzakowski/ds5100-finalproject-jak5je/montecarlo/montecarlo.py\n",
      "\n",
      "\n"
     ]
    }
   ],
   "source": [
    "help(montecarlo)"
   ]
  },
  {
   "cell_type": "markdown",
   "id": "a9defa84-b395-4966-bd1c-5c6c2bb7ed68",
   "metadata": {},
   "source": [
    "## `README.md` File (3)\n",
    "\n",
    "Provide link to the README.md file of your project's repo.\n",
    "\n",
    "- Metadata section or info present (1).\n",
    "- Synopsis section showing how each class is called (1). (All must be included.)\n",
    "- API section listing all classes and methods (1). (All must be included.)"
   ]
  },
  {
   "cell_type": "markdown",
   "id": "ee090b33-d593-48a0-bf35-e739cea0942c",
   "metadata": {},
   "source": [
    "URL:"
   ]
  },
  {
   "cell_type": "markdown",
   "id": "108604c8-8827-42ef-ab59-6b25428fc0ca",
   "metadata": {},
   "source": [
    "## Successful installation (2)\n",
    "\n",
    "Put a screenshot or paste a copy of a terminal session where you successfully install your module with pip.\n",
    "\n",
    "If pasting text, use a preformatted text block to show the results.\n",
    "\n",
    "- Installed with `pip` (1).\n",
    "- Successfully installed message appears (1)."
   ]
  },
  {
   "attachments": {
    "1bed3edd-b3db-46fd-be87-bcb97d5a8166.png": {
     "image/png": "[encoded data removed]"
    }
   },
   "cell_type": "markdown",
   "id": "a0a782be-7f9b-4bbe-9f6f-f0aaa5e8fca0",
   "metadata": {},
   "source": [
    "![install.png](attachment:1bed3edd-b3db-46fd-be87-bcb97d5a8166.png)"
   ]
  },
  {
   "cell_type": "markdown",
   "id": "7c44695d-d1b3-4edf-9f94-e64d7446f199",
   "metadata": {},
   "source": [
    "# Scenarios\n",
    "\n",
    "Use code blocks to perform the tasks for each scenario.\n",
    "\n",
    "Be sure the outputs are visible before submitting."
   ]
  },
  {
   "cell_type": "markdown",
   "id": "e2479eae-6fc9-44cd-b8d7-9b22cb501f2a",
   "metadata": {
    "tags": []
   },
   "source": [
    "## Scenario 1: A 2-headed Coin (9)\n",
    "\n",
    "Task 1. Create a fair coin (with faces $H$ and $T$) and one unfair coin in which one of the faces has a weight of $5$ and the others $1$.\n",
    "\n",
    "- Fair coin created (1).\n",
    "- Unfair coin created with weight as specified (1)."
   ]
  },
  {
   "cell_type": "code",
   "execution_count": 4,
   "id": "55ce498e-c75f-4425-9e3e-b635bd6cd9e1",
   "metadata": {},
   "outputs": [],
   "source": [
    "import numpy as np\n",
    "import pandas as pd\n",
    "\n",
    "fair_coin = montecarlo.Die(np.array(['H', 'T']))\n",
    "unfair_coin = montecarlo.Die(np.array(['H', 'T']))\n",
    "unfair_coin.change_weight('H', 5)"
   ]
  },
  {
   "cell_type": "markdown",
   "id": "02b272ab-99da-4b6e-ac2a-555b73e09c07",
   "metadata": {},
   "source": [
    "Task 2. Play a game of $1000$ flips with two fair dice.\n",
    "\n",
    "- Play method called correclty and without error (1)."
   ]
  },
  {
   "cell_type": "code",
   "execution_count": 5,
   "id": "65c92601-d32d-4326-b215-74953aee27f2",
   "metadata": {},
   "outputs": [],
   "source": [
    "coin_game = montecarlo.Game([fair_coin, fair_coin])\n",
    "coin_game.play(1000)"
   ]
  },
  {
   "cell_type": "markdown",
   "id": "7d9c3dc8-22c1-4cae-81fb-d68d774a05d1",
   "metadata": {},
   "source": [
    "Task 3. Play another game (using a new Game object) of $1000$ flips, this time using two unfair dice and one fair die. For the second unfair die, you can use the same die object twice in the list of dice you pass to the Game object.\n",
    "\n",
    "- New game object created (1).\n",
    "- Play method called correclty and without error (1)."
   ]
  },
  {
   "cell_type": "code",
   "execution_count": 6,
   "id": "d4098bed-1eb2-4084-8d5e-9fda07c3be43",
   "metadata": {},
   "outputs": [],
   "source": [
    "coin_game2 = montecarlo.Game([unfair_coin, unfair_coin, fair_coin])\n",
    "coin_game2.play(1000)"
   ]
  },
  {
   "cell_type": "markdown",
   "id": "f690ebfc-fe71-4eb2-976d-7ac80ca6c23f",
   "metadata": {},
   "source": [
    "Task 4. For each game, use an Analyzer object to determine the raw frequency of jackpots — i.e. getting either all $H$s or all $T$s.\n",
    "\n",
    "- Analyzer objecs instantiated for both games (1).\n",
    "- Raw frequencies reported for both (1)."
   ]
  },
  {
   "cell_type": "code",
   "execution_count": 7,
   "id": "b26b8b7e-3be7-4476-a9a4-37d97536729e",
   "metadata": {},
   "outputs": [
    {
     "name": "stdout",
     "output_type": "stream",
     "text": [
      "Game 1 raw jackpot frequency: 486\n",
      "Game 2 raw jackpot frequency: 356\n"
     ]
    }
   ],
   "source": [
    "analyzer1 = montecarlo.Analyzer(coin_game)\n",
    "analyzer2 = montecarlo.Analyzer(coin_game2)\n",
    "raw_jackpot1 = analyzer1.jackpot()\n",
    "raw_jackpot2 = analyzer2.jackpot()\n",
    "print('Game 1 raw jackpot frequency:', raw_jackpot1)\n",
    "print('Game 2 raw jackpot frequency:', raw_jackpot2)"
   ]
  },
  {
   "cell_type": "markdown",
   "id": "b73d233c-445e-40cd-8858-0c5e1f097105",
   "metadata": {},
   "source": [
    "Task 5. For each analyzer, compute relative frequency as the number of jackpots over the total number of rolls.\n",
    "\n",
    "- Both relative frequencies computed (1)."
   ]
  },
  {
   "cell_type": "code",
   "execution_count": 8,
   "id": "9a96b31b-1b9d-496e-be3e-4bf83c45ec3a",
   "metadata": {},
   "outputs": [
    {
     "name": "stdout",
     "output_type": "stream",
     "text": [
      "Game 1 relative jackpot frequency: 0.486\n",
      "Game 2 relative jackpot frequency: 0.356\n"
     ]
    }
   ],
   "source": [
    "rel_jackpot1 = raw_jackpot1/1000\n",
    "rel_jackpot2 = raw_jackpot2/1000\n",
    "print('Game 1 relative jackpot frequency:', rel_jackpot1)\n",
    "print('Game 2 relative jackpot frequency:', rel_jackpot2)"
   ]
  },
  {
   "cell_type": "markdown",
   "id": "a6e1e734-7f5c-4721-8ba4-2f3a424cf984",
   "metadata": {},
   "source": [
    "Task 6. Show your results, comparing the two relative frequencies, in a simple bar chart.\n",
    "\n",
    "- Bar chart plotted and correct (1)."
   ]
  },
  {
   "cell_type": "code",
   "execution_count": 9,
   "id": "473fa67c-aa53-4aa3-a0b7-e8772b3f6ed3",
   "metadata": {},
   "outputs": [
    {
     "data": {
      "text/plain": [
       "<Axes: xlabel='labels'>"
      ]
     },
     "execution_count": 9,
     "metadata": {},
     "output_type": "execute_result"
    },
    {
     "data": {
      "image/png": "[encoded data removed]",
      "text/plain": [
       "<Figure size 640x480 with 1 Axes>"
      ]
     },
     "metadata": {},
     "output_type": "display_data"
    }
   ],
   "source": [
    "freqs = pd.DataFrame({'labels': ['Game 1 rel. frequency', 'Game 2 rel. frequency'],\n",
    "                     'values': [rel_jackpot1, rel_jackpot2]})\n",
    "freqs.plot.bar(x='labels', y='values')"
   ]
  },
  {
   "cell_type": "markdown",
   "id": "725cfa5b-e4b7-47c9-86aa-8d9e1fe6c8c7",
   "metadata": {},
   "source": [
    "## Scenario 2: A 6-sided Die (9)\n",
    "\n",
    "Task 1. Create three dice, each with six sides having the faces 1 through 6.\n",
    "\n",
    "- Three die objects created (1)."
   ]
  },
  {
   "cell_type": "code",
   "execution_count": 10,
   "id": "6a8bc611-325a-4e05-88d5-980e0a2cf7c5",
   "metadata": {},
   "outputs": [],
   "source": [
    "die1 = montecarlo.Die(np.arange(1,7))\n",
    "die2 = montecarlo.Die(np.arange(1,7))\n",
    "die3 = montecarlo.Die(np.arange(1,7))"
   ]
  },
  {
   "cell_type": "markdown",
   "id": "2ed3ad26-fbe9-43bd-9ad7-f683a4191d12",
   "metadata": {},
   "source": [
    "Task 2. Convert one of the dice to an unfair one by weighting the face $6$ five times more than the other weights (i.e. it has weight of 5 and the others a weight of 1 each).\n",
    "\n",
    "- Unfair die created with proper call to weight change method (1)."
   ]
  },
  {
   "cell_type": "code",
   "execution_count": 11,
   "id": "e33dd18f-7f90-456d-a680-61c08a328e21",
   "metadata": {},
   "outputs": [],
   "source": [
    "die1.change_weight(6, 5)"
   ]
  },
  {
   "cell_type": "markdown",
   "id": "7f6c062a-4c5b-45b9-96b8-76a0354c7e47",
   "metadata": {},
   "source": [
    "Task 3. Convert another of the dice to be unfair by weighting the face $1$ five times more than the others.\n",
    "\n",
    "- Unfair die created with proper call to weight change method (1)."
   ]
  },
  {
   "cell_type": "code",
   "execution_count": 12,
   "id": "01133a4e-6b06-4246-8d90-8e6d6995be51",
   "metadata": {},
   "outputs": [],
   "source": [
    "die2.change_weight(1, 5)"
   ]
  },
  {
   "cell_type": "markdown",
   "id": "f0ed31cb-0a3c-4eb2-b85e-6ed6b2eb6e58",
   "metadata": {},
   "source": [
    "Task 4. Play a game of $10000$ rolls with $5$ fair dice.\n",
    "\n",
    "- Game class properly instantiated (1). \n",
    "- Play method called properly (1)."
   ]
  },
  {
   "cell_type": "code",
   "execution_count": 13,
   "id": "e92395a4-9ed8-4cb0-8c85-38768a784ffc",
   "metadata": {},
   "outputs": [],
   "source": [
    "die_game = montecarlo.Game([die3] * 5)\n",
    "die_game.play(10000)"
   ]
  },
  {
   "cell_type": "markdown",
   "id": "7814b402-46a4-40e5-8141-20e05c3e646b",
   "metadata": {},
   "source": [
    "Task 5. Play another game of $10000$ rolls, this time with $2$ unfair dice, one as defined in steps #2 and #3 respectively, and $3$ fair dice.\n",
    "\n",
    "- Game class properly instantiated (1). \n",
    "- Play method called properly (1)."
   ]
  },
  {
   "cell_type": "code",
   "execution_count": 14,
   "id": "7cd58fba-b2a5-4d5d-bc6d-2a7a68d18c4f",
   "metadata": {},
   "outputs": [],
   "source": [
    "die_game2 = montecarlo.Game([die1, die2, die3, die3, die3])\n",
    "die_game2.play(10000)"
   ]
  },
  {
   "cell_type": "markdown",
   "id": "7b6cd372-2bb8-4df8-ade1-8f48bc300955",
   "metadata": {},
   "source": [
    "Task 6. For each game, use an Analyzer object to determine the relative frequency of jackpots and show your results, comparing the two relative frequencies, in a simple bar chart.\n",
    "\n",
    "- Jackpot methods called (1).\n",
    "- Graph produced (1)."
   ]
  },
  {
   "cell_type": "code",
   "execution_count": 15,
   "id": "bbdcf695-8937-406e-9b53-aa0b9ee3c59a",
   "metadata": {},
   "outputs": [
    {
     "data": {
      "text/plain": [
       "<Axes: xlabel='labels'>"
      ]
     },
     "execution_count": 15,
     "metadata": {},
     "output_type": "execute_result"
    },
    {
     "data": {
      "image/png": "[encoded data removed]",
      "text/plain": [
       "<Figure size 640x480 with 1 Axes>"
      ]
     },
     "metadata": {},
     "output_type": "display_data"
    }
   ],
   "source": [
    "analyzer1 = montecarlo.Analyzer(die_game)\n",
    "analyzer2 = montecarlo.Analyzer(die_game2)\n",
    "rel_jackpot1 = analyzer1.jackpot() / 10000\n",
    "rel_jackpot2 = analyzer2.jackpot() / 10000\n",
    "\n",
    "freqs = pd.DataFrame({'labels': ['Game 1 rel. frequency', 'Game 2 rel. frequency'],\n",
    "                     'values': [rel_jackpot1, rel_jackpot2]})\n",
    "freqs.plot.bar(x='labels', y='values')"
   ]
  },
  {
   "cell_type": "markdown",
   "id": "9f04e9be-8fcf-4ea4-a391-6614608285f8",
   "metadata": {},
   "source": [
    "## Scenario 3: Letters of the Alphabet (7)\n",
    "\n",
    "Task 1. Create a \"die\" of letters from $A$ to $Z$ with weights based on their frequency of usage as found in the data file `english_letters.txt`. Use the frequencies (i.e. raw counts) as weights.\n",
    "\n",
    "- Die correctly instantiated with source file data (1).\n",
    "- Weights properly applied using weight setting method (1)."
   ]
  },
  {
   "cell_type": "code",
   "execution_count": 16,
   "id": "b0ceb771-3cdf-4d8f-8c2c-020806bbb909",
   "metadata": {},
   "outputs": [],
   "source": [
    "import pandas as pd\n",
    "english_letters = pd.read_table('english_letters.txt', sep = ' ', header = None)\n",
    "letters = np.array(english_letters[0])\n",
    "die_letters = montecarlo.Die(letters)\n",
    "\n",
    "for i in range(0, len(english_letters)):\n",
    "    letter = english_letters.loc[i,0]\n",
    "    weight = english_letters.loc[i,1]\n",
    "    weight = float(weight)\n",
    "    die_letters.change_weight(letter, weight)"
   ]
  },
  {
   "cell_type": "markdown",
   "id": "88e2e14a-6223-470a-a2c8-bca1120d7a5b",
   "metadata": {},
   "source": [
    "Task 2. Play a game involving $4$ of these dice with $1000$ rolls.\n",
    "\n",
    "- Game play method properly called (1)."
   ]
  },
  {
   "cell_type": "code",
   "execution_count": 17,
   "id": "2ae087cc-936d-4f1e-bddb-a7c179d139e0",
   "metadata": {},
   "outputs": [],
   "source": [
    "letters_game = montecarlo.Game([die_letters, die_letters, die_letters, die_letters])\n",
    "letters_game.play(1000)"
   ]
  },
  {
   "cell_type": "markdown",
   "id": "3b9ff800-bf1f-4f66-9d7f-ff57a648e9f0",
   "metadata": {},
   "source": [
    "Task 3. Determine how many permutations in your results are actual English words, based on the vocabulary found in `scrabble_words.txt`.\n",
    "\n",
    "- Use permutation method (1).\n",
    "- Get count as difference between permutations and vocabulary (1)."
   ]
  },
  {
   "cell_type": "code",
   "execution_count": 18,
   "id": "ed1c7fa0-cfa3-4cf4-9fd0-9f84b86b0f64",
   "metadata": {},
   "outputs": [
    {
     "name": "stdout",
     "output_type": "stream",
     "text": [
      "50 words\n"
     ]
    }
   ],
   "source": [
    "letters_analysis = montecarlo.Analyzer(letters_game)\n",
    "words = pd.read_table('scrabble_words.txt', header = None)\n",
    "words_list = words[0]\n",
    "\n",
    "counts = letters_analysis.permutation_count()\n",
    "counts_full = []\n",
    "for count in counts.index:\n",
    "    counts_full.append(''.join(count))\n",
    "    \n",
    "counts.index = counts_full\n",
    "counts_words = counts[counts.index.isin(words_list)]\n",
    "\n",
    "total_words1 = sum(counts_words['count'])\n",
    "print(total_words1, 'words')"
   ]
  },
  {
   "cell_type": "markdown",
   "id": "fcf068cf-381a-4b3e-ac3a-0510eb4dbdb0",
   "metadata": {},
   "source": [
    "Task 4. Repeat steps #2 and #3, this time with $5$ dice. How many actual words does this produce? Which produces more?\n",
    "\n",
    "- Successfully repreats steps (1).\n",
    "- Identifies parameter with most found words (1)."
   ]
  },
  {
   "cell_type": "code",
   "execution_count": 19,
   "id": "4cbcb2a0-009b-49ba-9b3f-64b76a628094",
   "metadata": {},
   "outputs": [
    {
     "name": "stdout",
     "output_type": "stream",
     "text": [
      "7 words\n",
      "4 dice creates more words\n"
     ]
    }
   ],
   "source": [
    "letters_game = montecarlo.Game([die_letters, die_letters, die_letters,\n",
    "                                die_letters, die_letters])\n",
    "letters_game.play(1000)\n",
    "\n",
    "letters_analysis = montecarlo.Analyzer(letters_game)\n",
    "\n",
    "counts = letters_analysis.permutation_count()\n",
    "counts_full = []\n",
    "for count in counts.index:\n",
    "    counts_full.append(''.join(count))\n",
    "    \n",
    "counts.index = counts_full\n",
    "counts_words = counts[counts.index.isin(words_list)]\n",
    "\n",
    "total_words2 = sum(counts_words['count'])\n",
    "print(total_words2, \"words\")\n",
    "\n",
    "if total_words1 > total_words2:\n",
    "    print('4 dice creates more words')\n",
    "elif total_words2 > total_words1:\n",
    "    print('5 dice creates more words')\n",
    "else:\n",
    "    print('They produce the same number of words')"
   ]
  }
 ],
 "metadata": {
  "kernelspec": {
   "display_name": "Python 3 (ipykernel)",
   "language": "python",
   "name": "python3"
  },
  "language_info": {
   "codemirror_mode": {
    "name": "ipython",
    "version": 3
   },
   "file_extension": ".py",
   "mimetype": "text/x-python",
   "name": "python",
   "nbconvert_exporter": "python",
   "pygments_lexer": "ipython3",
   "version": "3.12.3"
  },
  "toc-autonumbering": true,
  "widgets": {
   "application/vnd.jupyter.widget-state+json": {
    "state": {},
    "version_major": 2,
    "version_minor": 0
   }
  }
 },
 "nbformat": 4,
 "nbformat_minor": 5
}
